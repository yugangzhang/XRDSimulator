{
 "cells": [
  {
   "cell_type": "code",
   "execution_count": 4,
   "id": "743bd59f-6daf-41fa-b6c6-5aaed955648f",
   "metadata": {},
   "outputs": [],
   "source": [
    "%run -i XRDSimulator.py"
   ]
  },
  {
   "cell_type": "code",
   "execution_count": 5,
   "id": "6f92c008-e8c7-475a-adc6-ae10189c2e4d",
   "metadata": {},
   "outputs": [
    {
     "data": {
      "application/vnd.jupyter.widget-view+json": {
       "model_id": "3b71880c343a49a29728c1e4630483ed",
       "version_major": 2,
       "version_minor": 0
      },
      "text/plain": [
       "VBox(children=(Output(), HBox(children=(FloatSlider(value=0.0, continuous_update=False, description='χ (X-rot)…"
      ]
     },
     "metadata": {},
     "output_type": "display_data"
    }
   ],
   "source": [
    "interactive_simulation()"
   ]
  }
 ],
 "metadata": {
  "kernelspec": {
   "display_name": "Python (pyScattering4)",
   "language": "python",
   "name": "pyscattering4"
  },
  "language_info": {
   "codemirror_mode": {
    "name": "ipython",
    "version": 3
   },
   "file_extension": ".py",
   "mimetype": "text/x-python",
   "name": "python",
   "nbconvert_exporter": "python",
   "pygments_lexer": "ipython3",
   "version": "3.9.20"
  }
 },
 "nbformat": 4,
 "nbformat_minor": 5
}
